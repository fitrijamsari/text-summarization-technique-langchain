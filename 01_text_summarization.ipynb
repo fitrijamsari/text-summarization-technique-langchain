{
 "cells": [
  {
   "cell_type": "markdown",
   "metadata": {},
   "source": [
    "# Text Summarization Using Langchain"
   ]
  },
  {
   "cell_type": "code",
   "execution_count": 1,
   "metadata": {},
   "outputs": [
    {
     "data": {
      "text/plain": [
       "True"
      ]
     },
     "execution_count": 1,
     "metadata": {},
     "output_type": "execute_result"
    }
   ],
   "source": [
    "import os\n",
    "from dotenv import load_dotenv\n",
    "import os\n",
    "\n",
    "# Load variables from .env\n",
    "load_dotenv()"
   ]
  },
  {
   "cell_type": "code",
   "execution_count": 2,
   "metadata": {},
   "outputs": [],
   "source": [
    "openai_api_key = os.environ['OPENAI_API_KEY']"
   ]
  },
  {
   "cell_type": "code",
   "execution_count": 4,
   "metadata": {},
   "outputs": [],
   "source": [
    "## Basic Prompt Summarization\n",
    "from langchain.chat_models import ChatOpenAI\n",
    "from langchain.schema import (\n",
    "    AIMessage,\n",
    "    HumanMessage,\n",
    "    SystemMessage\n",
    ")"
   ]
  },
  {
   "cell_type": "code",
   "execution_count": 6,
   "metadata": {},
   "outputs": [],
   "source": [
    "speech=\"\"\"\n",
    "Today, is the day we seize that moment, indeed a defining moment with the establishment of the Cybersecurity Center of Excellence (CCoE), a testament to our unwavering commitment to strengthen the nation’s cybersecurity capabilities and capacities.\n",
    "Being more than a facility to help train and upskill our national workforce, the CCoE has the potential to be an international destination to address emerging cyber threats. We can bring together Malaysian and Canadian universities, research institutions and skilled practitioners to share knowledge, threat intelligence, and jointly develop methods and strategies to strengthen national and regional cyber-resilience. The CCoE is a milestone in our journey towards creating a robust cybersecurity ecosystem, necessitating strong partnerships across the public and private sectors.\n",
    "Towards a more secure digital environment, we can collaborate to develop plans that encourage information sharing and expertise exchange between government agencies, and other stakeholders including sharing actionable threat intelligence. We commend Blackberry for helping to upskill our next generation of cyber-defenders, accelerating our goal to bolster national and regional security and innovation. Malaysia has a shortfall of 12,000 cybersecurity professionals. We need 25,000 workers in cybersecurity by 2025. We envision this center as a capacity-building hub for the Southeast Asian region, with a specific focus on enhancing threat intelligence sharing, and fostering regional cooperation in mitigating cybersecurity threats and combating cybercrime. As the chosen location for the establishment of the CCoE, Malaysia aims to deliver upon our shared goal to establish a globally competitive skills and learning ecosystem in the Indo- Pacific region. Forging international partnerships, specifically those harnessing advanced technologies like Artificial Intelligence and Machine Learning, assumes importance in the positive growth of our economy's trajectory.\n",
    "Through this strategic collaboration, we not only stimulate economic advancement and prosperity but also bolster the resilience of our cybersecurity infrastructure against the risks that pervade the digital landscape, by keeping the nation’s data, conversations, and citizens safe.\n",
    "The Government has been working tirelessly to attract Foreign Direct Investment chalking up RM329.5 billion in 2023, an all-time high, which bodes well for 2024 and reflects the increasing confidence investors have in Malaysia. These efforts will ultimately create high value job opportunities for the people, in tandem with the Ekonomi MADANI: Memperkasa Rakyat. Under this Framework, the Government has also introduced numerous initiatives to help accelerate the growth of enterprises and services to significantly enhance their productivity as well as grow Malaysia’s cybersecurity competencies and the digital domain. As of February 2024, 5G roll out in Malaysia has reached 80.3% coverage in populated areas and Internet coverage has reached 97.07% in populated areas respectively in Malaysia. The communications connectivity will continue to catalyse digital transformation, specifically those industry verticals such as manufacturing, health care, warehousing, agriculture and more, in addition to spurring the growth of data centers and cloud services. Today, we also celebrate the graduation of the first cohort of upskilled cyber defenders, trained by the SANS Institute and BlackBerry. This achievement is a direct reflection of the CCoE’s immediate impact, contributing to the elevation of cybersecurity skills and fostering a culture of innovation and professional networking.\n",
    "\"\"\""
   ]
  },
  {
   "cell_type": "code",
   "execution_count": 7,
   "metadata": {},
   "outputs": [],
   "source": [
    "chat_messages=[\n",
    "    SystemMessage(content=\"You are an expert assistant that summarizes text and speeches.\"),\n",
    "    HumanMessage(content=f'Please provide a short and concise summary of the following speech:\\n TEXT: {speech}')\n",
    "]"
   ]
  },
  {
   "cell_type": "code",
   "execution_count": 8,
   "metadata": {},
   "outputs": [],
   "source": [
    "llm = ChatOpenAI(model_name=\"gpt-3.5-turbo\")"
   ]
  },
  {
   "cell_type": "code",
   "execution_count": 9,
   "metadata": {},
   "outputs": [
    {
     "data": {
      "text/plain": [
       "648"
      ]
     },
     "execution_count": 9,
     "metadata": {},
     "output_type": "execute_result"
    }
   ],
   "source": [
    "# get total token\n",
    "llm.get_num_tokens(speech)"
   ]
  },
  {
   "cell_type": "code",
   "execution_count": 11,
   "metadata": {},
   "outputs": [
    {
     "name": "stdout",
     "output_type": "stream",
     "text": [
      "In the speech, the establishment of the Cybersecurity Center of Excellence (CCoE) is highlighted as a significant milestone in strengthening national and regional cybersecurity capabilities. The CCoE aims to train and upskill cybersecurity professionals, foster international collaborations, enhance threat intelligence sharing, and combat cyber threats. The center is part of efforts to create a robust cybersecurity ecosystem through partnerships between the public and private sectors. Malaysia aims to become a hub for cybersecurity capacity-building in the Southeast Asian region, with a focus on enhancing threat intelligence sharing and regional cooperation. The speech also emphasizes the importance of international partnerships, advanced technologies like AI and ML, and the role of cybersecurity in economic growth and prosperity. Additionally, it mentions the government's efforts to attract foreign investment and initiatives to accelerate enterprise growth in the digital domain. The speech also celebrates the graduation of the first cohort of upskilled cyber defenders, highlighting the immediate impact of the CCoE in elevating cybersecurity skills and fostering innovation and networking.\n"
     ]
    }
   ],
   "source": [
    "#get summary\n",
    "# llm(chat_messages)\n",
    "# llm(chat_messages).content\n",
    "print(llm(chat_messages).content)\n"
   ]
  }
 ],
 "metadata": {
  "kernelspec": {
   "display_name": "langchain",
   "language": "python",
   "name": "python3"
  },
  "language_info": {
   "codemirror_mode": {
    "name": "ipython",
    "version": 3
   },
   "file_extension": ".py",
   "mimetype": "text/x-python",
   "name": "python",
   "nbconvert_exporter": "python",
   "pygments_lexer": "ipython3",
   "version": "3.10.13"
  }
 },
 "nbformat": 4,
 "nbformat_minor": 2
}
