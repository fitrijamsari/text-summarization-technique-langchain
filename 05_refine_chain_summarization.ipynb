{
 "cells": [
  {
   "cell_type": "markdown",
   "metadata": {},
   "source": [
    "# 05. RefineChain + Custom Prompt Text Summarization Using Langchain\n",
    "\n",
    "Usage: Large Document Summarization\n",
    "\n",
    "Refine Chain workflow:\n",
    "1. Convert large document into chunk  \n",
    "2. Send the chunk to llm model  \n",
    "3. For every chunk we will get the summary  \n",
    "4. First chunk summary + 2nd chunk will be send to the llm back to produce 2nd chunk summary  \n",
    "5. The 2nd chunk summary will combine with 3rd chunk text and will be send to llm to produce 3rd chunk summary. AND so on.  \n",
    "6. Output the summary based on custom prompt template"
   ]
  },
  {
   "cell_type": "code",
   "execution_count": 4,
   "metadata": {},
   "outputs": [
    {
     "data": {
      "text/plain": [
       "True"
      ]
     },
     "execution_count": 4,
     "metadata": {},
     "output_type": "execute_result"
    }
   ],
   "source": [
    "import os\n",
    "from dotenv import load_dotenv\n",
    "import os\n",
    "\n",
    "# Load variables from .env\n",
    "load_dotenv()"
   ]
  },
  {
   "cell_type": "code",
   "execution_count": 5,
   "metadata": {},
   "outputs": [],
   "source": [
    "openai_api_key = os.environ['OPENAI_API_KEY']"
   ]
  },
  {
   "cell_type": "code",
   "execution_count": 6,
   "metadata": {},
   "outputs": [],
   "source": [
    "from PyPDF2 import PdfReader\n",
    "\n",
    "from langchain import PromptTemplate\n",
    "from langchain.chat_models import ChatOpenAI\n",
    "from langchain.chains.summarize import load_summarize_chain\n",
    "from langchain.text_splitter import RecursiveCharacterTextSplitter"
   ]
  },
  {
   "cell_type": "code",
   "execution_count": 7,
   "metadata": {},
   "outputs": [],
   "source": [
    "# provide the path of  pdf file/files.\n",
    "pdfreader = PdfReader('document/SPEECH-YAB-PM-FOR-CCOE.pdf')"
   ]
  },
  {
   "cell_type": "code",
   "execution_count": 8,
   "metadata": {},
   "outputs": [],
   "source": [
    "from typing_extensions import Concatenate\n",
    "\n",
    "# read text from pdf\n",
    "text:str = ''\n",
    "for i, page in enumerate(pdfreader.pages):\n",
    "    content = page.extract_text()\n",
    "    if content:\n",
    "        text += content"
   ]
  },
  {
   "cell_type": "code",
   "execution_count": 9,
   "metadata": {},
   "outputs": [
    {
     "data": {
      "text/plain": [
       "\" \\n1         SPEECH  YAB DATO’ SERI ANWAR BIN IBRAHIM PRIME MINISTER OF MALAYSIA       THE GRAND OPENING OF  CYBERSECURITY CENTER OF EXCELLENCE (CCoE)         26 MARCH 2024 (TUESDAY), 1.45 PM CCoE, CYBERJAYA   \\n \\n2  SALUTATIONS  1. The Honourable Mrs. Mary Ng Minister of Export Promotion, International Trade and Economic Development of Canada   2. Yang Berhormat Fahmi Fadzil  Minister of Communications   3. YBhg. Datuk Mohamad Fauzi bin Md. Isa Secretary-General, Ministry of Communications  4. YM Raja Dato’ Nurshirwan Zainal Abidin Director General, National Security Council  5. Yang Berusaha Tan Sri Mohamad Salim bin Fateh Din  Chairman, Malaysian Communications and Multimedia Commission (MCMC)   6. Mr. John J. Giamatteo  Chief Executive Officer, BlackBerry   7. Representatives of the industry and ecosystem,   8. Distinguished guests,    9. Members of the media,  10. Ladies and gentlemen,          \\n3  Assalamualaikum Warahmatullahi Wabarakatuh and Salam Malaysia MADANI.  1. It has been said that there is a tide in our affairs which, taken at the flood, leads on to fortune; Omitted, our voyage will be bound in shallows and in miseries.  2. Today, is the day we seize that moment, indeed a defining moment with the establishment of the Cybersecurity Center of Excellence (CCoE), a testament to our unwavering commitment to strengthen the nation’s cybersecurity capabilities and capacities.  3. Being more than a facility to help train and upskill our national workforce, the CCoE has the potential to be an international destination to address emerging cyber threats. We can bring together Malaysian and Canadian universities, research institutions and skilled practitioners to share knowledge, threat intelligence, and jointly develop methods and strategies to strengthen national and regional cyber-resilience.  4. The CCoE is a milestone in our journey towards creating a robust cybersecurity ecosystem, necessitating strong partnerships across the public and private sectors.   5. Towards a more secure digital environment, we can collaborate to develop plans that encourage information sharing and expertise exchange between government agencies, and other stakeholders including sharing actionable threat intelligence.    \\n4  6. We commend Blackberry for helping to upskill our next generation of cyber-defenders, accelerating our goal to bolster national and regional security and innovation.  Malaysia has a shortfall of 12,000 cybersecurity professionals. We need 25,000 workers in cybersecurity by 2025.  7. We envision this center as a capacity-building hub for the Southeast Asian region, with a specific focus on enhancing threat intelligence sharing, and fostering regional cooperation in mitigating cybersecurity threats and combating cybercrime.  8. As the chosen location for the establishment of the CCoE, Malaysia aims to deliver upon our shared goal to establish a globally competitive skills and learning ecosystem in the Indo-Pacific region.  9. Forging international partnerships, specifically those harnessing advanced technologies like Artificial Intelligence and Machine Learning, assumes importance in the positive growth of our economy's trajectory.  10. Through this strategic collaboration, we not only stimulate economic advancement and prosperity but also bolster the resilience of our cybersecurity infrastructure against the risks that pervade the digital landscape, by keeping the nation’s data, conversations, and citizens safe.  11. The Government has been working tirelessly to attract Foreign Direct Investment chalking up RM329.5 billion in 2023, an all-time  \\n5  high, which bodes well for 2024 and reflects the increasing confidence investors have in Malaysia.  12. These efforts will ultimately create high value job opportunities for the people, in tandem with the Ekonomi MADANI: Memperkasa Rakyat. Under this Framework, the Government has also introduced numerous initiatives to help accelerate the growth of enterprises and services to significantly enhance their productivity as well as grow Malaysia’s cybersecurity competencies in the digital domain.  13. As of February 2024, 5G roll out in Malaysia has reached 80.3% coverage in populated areas and Internet coverage has reached 97.07% in populated areas respectively in Malaysia. The communications connectivity will continue to catalyse digital transformation, specifically those industry verticals such as manufacturing, health care, warehousing, agriculture and more, in addition to spurring the growth of data centers and cloud services.  14. Today, we also celebrate the graduation of the first cohort of upskilled cyber defenders, trained by the SANS Institute and BlackBerry. This achievement is a direct reflection of the CCoE’s immediate impact, contributing to the elevation of cybersecurity skills and fostering a culture of innovation and professional networking.   15. Going forward, the landmark collaboration today will be vital in fortifying cybersecurity and ensuring data sovereignty for  \\n6  Malaysia. With that, dengan lafaz Bismillahirrahmanirrahim, I am pleased to officiate the Cybersecurity Center of Excellence.  Wabillahitaufik Walhidayah Wassalamualaikum Warahmatullahi Wabarakatuh.    \""
      ]
     },
     "execution_count": 9,
     "metadata": {},
     "output_type": "execute_result"
    }
   ],
   "source": [
    "text"
   ]
  },
  {
   "cell_type": "code",
   "execution_count": 10,
   "metadata": {},
   "outputs": [],
   "source": [
    "llm = ChatOpenAI(temperature=0, model_name=\"gpt-3.5-turbo\")"
   ]
  },
  {
   "cell_type": "code",
   "execution_count": 11,
   "metadata": {},
   "outputs": [
    {
     "data": {
      "text/plain": [
       "1124"
      ]
     },
     "execution_count": 11,
     "metadata": {},
     "output_type": "execute_result"
    }
   ],
   "source": [
    "llm.get_num_tokens(text)"
   ]
  },
  {
   "cell_type": "code",
   "execution_count": 12,
   "metadata": {},
   "outputs": [],
   "source": [
    "## Splittting the text\n",
    "text_splitter = RecursiveCharacterTextSplitter(\n",
    "    chunk_size=1000,\n",
    "    chunk_overlap=200,\n",
    ")\n",
    "\n",
    "chunks = text_splitter.create_documents([text])"
   ]
  },
  {
   "cell_type": "code",
   "execution_count": 13,
   "metadata": {},
   "outputs": [
    {
     "data": {
      "text/plain": [
       "8"
      ]
     },
     "execution_count": 13,
     "metadata": {},
     "output_type": "execute_result"
    }
   ],
   "source": [
    "len(chunks)"
   ]
  },
  {
   "cell_type": "code",
   "execution_count": 17,
   "metadata": {},
   "outputs": [],
   "source": [
    "# load the entire document as stuff\n",
    "chain = load_summarize_chain(llm, chain_type=\"refine\", verbose=True)"
   ]
  },
  {
   "cell_type": "code",
   "execution_count": 18,
   "metadata": {},
   "outputs": [
    {
     "name": "stdout",
     "output_type": "stream",
     "text": [
      "\n",
      "\n",
      "\u001b[1m> Entering new RefineDocumentsChain chain...\u001b[0m\n",
      "\n",
      "\n",
      "\u001b[1m> Entering new LLMChain chain...\u001b[0m\n",
      "Prompt after formatting:\n",
      "\u001b[32;1m\u001b[1;3mWrite a concise summary of the following:\n",
      "\n",
      "\n",
      "\"1         SPEECH  YAB DATO’ SERI ANWAR BIN IBRAHIM PRIME MINISTER OF MALAYSIA       THE GRAND OPENING OF  CYBERSECURITY CENTER OF EXCELLENCE (CCoE)         26 MARCH 2024 (TUESDAY), 1.45 PM CCoE, CYBERJAYA   \n",
      " \n",
      "2  SALUTATIONS  1. The Honourable Mrs. Mary Ng Minister of Export Promotion, International Trade and Economic Development of Canada   2. Yang Berhormat Fahmi Fadzil  Minister of Communications   3. YBhg. Datuk Mohamad Fauzi bin Md. Isa Secretary-General, Ministry of Communications  4. YM Raja Dato’ Nurshirwan Zainal Abidin Director General, National Security Council  5. Yang Berusaha Tan Sri Mohamad Salim bin Fateh Din  Chairman, Malaysian Communications and Multimedia Commission (MCMC)   6. Mr. John J. Giamatteo  Chief Executive Officer, BlackBerry   7. Representatives of the industry and ecosystem,   8. Distinguished guests,    9. Members of the media,  10. Ladies and gentlemen,\"\n",
      "\n",
      "\n",
      "CONCISE SUMMARY:\u001b[0m\n",
      "\n",
      "\u001b[1m> Finished chain.\u001b[0m\n",
      "\n",
      "\n",
      "\u001b[1m> Entering new LLMChain chain...\u001b[0m\n",
      "Prompt after formatting:\n",
      "\u001b[32;1m\u001b[1;3mYour job is to produce a final summary.\n",
      "We have provided an existing summary up to a certain point: Dato’ Seri Anwar Bin Ibrahim, Prime Minister of Malaysia, gave a speech at the grand opening of the Cybersecurity Center of Excellence (CCoE) in Cyberjaya on March 26, 2024. The event was attended by various government officials, industry representatives, and members of the media.\n",
      "We have the opportunity to refine the existing summary (only if needed) with some more context below.\n",
      "------------\n",
      "3  Assalamualaikum Warahmatullahi Wabarakatuh and Salam Malaysia MADANI.  1. It has been said that there is a tide in our affairs which, taken at the flood, leads on to fortune; Omitted, our voyage will be bound in shallows and in miseries.  2. Today, is the day we seize that moment, indeed a defining moment with the establishment of the Cybersecurity Center of Excellence (CCoE), a testament to our unwavering commitment to strengthen the nation’s cybersecurity capabilities and capacities.  3. Being more than a facility to help train and upskill our national workforce, the CCoE has the potential to be an international destination to address emerging cyber threats. We can bring together Malaysian and Canadian universities, research institutions and skilled practitioners to share knowledge, threat intelligence, and jointly develop methods and strategies to strengthen national and regional cyber-resilience.  4. The CCoE is a milestone in our journey towards creating a robust cybersecurity\n",
      "------------\n",
      "Given the new context, refine the original summary.\n",
      "If the context isn't useful, return the original summary.\u001b[0m\n",
      "\n",
      "\u001b[1m> Finished chain.\u001b[0m\n",
      "\n",
      "\n",
      "\u001b[1m> Entering new LLMChain chain...\u001b[0m\n",
      "Prompt after formatting:\n",
      "\u001b[32;1m\u001b[1;3mYour job is to produce a final summary.\n",
      "We have provided an existing summary up to a certain point: Dato’ Seri Anwar Bin Ibrahim, Prime Minister of Malaysia, gave a speech at the grand opening of the Cybersecurity Center of Excellence (CCoE) in Cyberjaya on March 26, 2024. The event was attended by various government officials, industry representatives, and members of the media. The establishment of the CCoE signifies Malaysia's commitment to enhancing national cybersecurity capabilities and becoming an international hub for addressing emerging cyber threats. The center aims to facilitate collaboration between Malaysian and Canadian institutions to share knowledge, threat intelligence, and develop strategies for strengthening cyber-resilience on a national and regional level.\n",
      "We have the opportunity to refine the existing summary (only if needed) with some more context below.\n",
      "------------\n",
      "intelligence, and jointly develop methods and strategies to strengthen national and regional cyber-resilience.  4. The CCoE is a milestone in our journey towards creating a robust cybersecurity ecosystem, necessitating strong partnerships across the public and private sectors.   5. Towards a more secure digital environment, we can collaborate to develop plans that encourage information sharing and expertise exchange between government agencies, and other stakeholders including sharing actionable threat intelligence.\n",
      "------------\n",
      "Given the new context, refine the original summary.\n",
      "If the context isn't useful, return the original summary.\u001b[0m\n",
      "\n",
      "\u001b[1m> Finished chain.\u001b[0m\n",
      "\n",
      "\n",
      "\u001b[1m> Entering new LLMChain chain...\u001b[0m\n",
      "Prompt after formatting:\n",
      "\u001b[32;1m\u001b[1;3mYour job is to produce a final summary.\n",
      "We have provided an existing summary up to a certain point: Dato’ Seri Anwar Bin Ibrahim, Prime Minister of Malaysia, gave a speech at the grand opening of the Cybersecurity Center of Excellence (CCoE) in Cyberjaya on March 26, 2024. The event was attended by various government officials, industry representatives, and members of the media. The establishment of the CCoE signifies Malaysia's commitment to enhancing national cybersecurity capabilities and becoming an international hub for addressing emerging cyber threats. The center aims to facilitate collaboration between Malaysian and Canadian institutions to share knowledge, threat intelligence, and jointly develop methods and strategies to strengthen national and regional cyber-resilience. The CCoE is a milestone in our journey towards creating a robust cybersecurity ecosystem, necessitating strong partnerships across the public and private sectors. Towards a more secure digital environment, we can collaborate to develop plans that encourage information sharing and expertise exchange between government agencies and other stakeholders, including sharing actionable threat intelligence.\n",
      "We have the opportunity to refine the existing summary (only if needed) with some more context below.\n",
      "------------\n",
      "4  6. We commend Blackberry for helping to upskill our next generation of cyber-defenders, accelerating our goal to bolster national and regional security and innovation.  Malaysia has a shortfall of 12,000 cybersecurity professionals. We need 25,000 workers in cybersecurity by 2025.  7. We envision this center as a capacity-building hub for the Southeast Asian region, with a specific focus on enhancing threat intelligence sharing, and fostering regional cooperation in mitigating cybersecurity threats and combating cybercrime.  8. As the chosen location for the establishment of the CCoE, Malaysia aims to deliver upon our shared goal to establish a globally competitive skills and learning ecosystem in the Indo-Pacific region.  9. Forging international partnerships, specifically those harnessing advanced technologies like Artificial Intelligence and Machine Learning, assumes importance in the positive growth of our economy's trajectory.  10. Through this strategic collaboration, we not\n",
      "------------\n",
      "Given the new context, refine the original summary.\n",
      "If the context isn't useful, return the original summary.\u001b[0m\n",
      "\n",
      "\u001b[1m> Finished chain.\u001b[0m\n",
      "\n",
      "\n",
      "\u001b[1m> Entering new LLMChain chain...\u001b[0m\n",
      "Prompt after formatting:\n",
      "\u001b[32;1m\u001b[1;3mYour job is to produce a final summary.\n",
      "We have provided an existing summary up to a certain point: Dato’ Seri Anwar Bin Ibrahim, Prime Minister of Malaysia, gave a speech at the grand opening of the Cybersecurity Center of Excellence (CCoE) in Cyberjaya on March 26, 2024. The event was attended by various government officials, industry representatives, and members of the media. The establishment of the CCoE signifies Malaysia's commitment to enhancing national cybersecurity capabilities and becoming an international hub for addressing emerging cyber threats. The center aims to facilitate collaboration between Malaysian and Canadian institutions to share knowledge, threat intelligence, and jointly develop methods and strategies to strengthen national and regional cyber-resilience. The CCoE is a milestone in our journey towards creating a robust cybersecurity ecosystem, necessitating strong partnerships across the public and private sectors. Malaysia has a shortfall of 12,000 cybersecurity professionals and aims to have 25,000 workers in cybersecurity by 2025. The CCoE is envisioned as a capacity-building hub for the Southeast Asian region, focusing on enhancing threat intelligence sharing and fostering regional cooperation in mitigating cybersecurity threats and combating cybercrime. Malaysia aims to establish a globally competitive skills and learning ecosystem in the Indo-Pacific region through the CCoE. International partnerships, particularly those leveraging advanced technologies like Artificial Intelligence and Machine Learning, are crucial for the positive growth of the economy. Through strategic collaborations, we can work towards a more secure digital environment by developing plans that encourage information sharing and expertise exchange between government agencies and other stakeholders, including sharing actionable threat intelligence.\n",
      "We have the opportunity to refine the existing summary (only if needed) with some more context below.\n",
      "------------\n",
      "advanced technologies like Artificial Intelligence and Machine Learning, assumes importance in the positive growth of our economy's trajectory.  10. Through this strategic collaboration, we not only stimulate economic advancement and prosperity but also bolster the resilience of our cybersecurity infrastructure against the risks that pervade the digital landscape, by keeping the nation’s data, conversations, and citizens safe.  11. The Government has been working tirelessly to attract Foreign Direct Investment chalking up RM329.5 billion in 2023, an all-time\n",
      "------------\n",
      "Given the new context, refine the original summary.\n",
      "If the context isn't useful, return the original summary.\u001b[0m\n",
      "\n",
      "\u001b[1m> Finished chain.\u001b[0m\n",
      "\n",
      "\n",
      "\u001b[1m> Entering new LLMChain chain...\u001b[0m\n",
      "Prompt after formatting:\n",
      "\u001b[32;1m\u001b[1;3mYour job is to produce a final summary.\n",
      "We have provided an existing summary up to a certain point: Dato’ Seri Anwar Bin Ibrahim, Prime Minister of Malaysia, delivered a speech at the grand opening of the Cybersecurity Center of Excellence (CCoE) in Cyberjaya on March 26, 2024. The event was attended by various government officials, industry representatives, and members of the media. The establishment of the CCoE signifies Malaysia's commitment to enhancing national cybersecurity capabilities and becoming an international hub for addressing emerging cyber threats. The center aims to facilitate collaboration between Malaysian and Canadian institutions to share knowledge, threat intelligence, and jointly develop methods and strategies to strengthen national and regional cyber-resilience. The CCoE is a milestone in our journey towards creating a robust cybersecurity ecosystem, necessitating strong partnerships across the public and private sectors. Malaysia has a shortfall of 12,000 cybersecurity professionals and aims to have 25,000 workers in cybersecurity by 2025. The CCoE is envisioned as a capacity-building hub for the Southeast Asian region, focusing on enhancing threat intelligence sharing and fostering regional cooperation in mitigating cybersecurity threats and combating cybercrime. Malaysia aims to establish a globally competitive skills and learning ecosystem in the Indo-Pacific region through the CCoE. International partnerships, particularly those leveraging advanced technologies like Artificial Intelligence and Machine Learning, are crucial for the positive growth of the economy. Through this strategic collaboration, Malaysia aims to stimulate economic advancement, attract Foreign Direct Investment, and bolster the resilience of its cybersecurity infrastructure to keep the nation's data, conversations, and citizens safe.\n",
      "We have the opportunity to refine the existing summary (only if needed) with some more context below.\n",
      "------------\n",
      "5  high, which bodes well for 2024 and reflects the increasing confidence investors have in Malaysia.  12. These efforts will ultimately create high value job opportunities for the people, in tandem with the Ekonomi MADANI: Memperkasa Rakyat. Under this Framework, the Government has also introduced numerous initiatives to help accelerate the growth of enterprises and services to significantly enhance their productivity as well as grow Malaysia’s cybersecurity competencies in the digital domain.  13. As of February 2024, 5G roll out in Malaysia has reached 80.3% coverage in populated areas and Internet coverage has reached 97.07% in populated areas respectively in Malaysia. The communications connectivity will continue to catalyse digital transformation, specifically those industry verticals such as manufacturing, health care, warehousing, agriculture and more, in addition to spurring the growth of data centers and cloud services.  14. Today, we also celebrate the graduation of the\n",
      "------------\n",
      "Given the new context, refine the original summary.\n",
      "If the context isn't useful, return the original summary.\u001b[0m\n",
      "\n",
      "\u001b[1m> Finished chain.\u001b[0m\n",
      "\n",
      "\n",
      "\u001b[1m> Entering new LLMChain chain...\u001b[0m\n",
      "Prompt after formatting:\n",
      "\u001b[32;1m\u001b[1;3mYour job is to produce a final summary.\n",
      "We have provided an existing summary up to a certain point: Dato’ Seri Anwar Bin Ibrahim, Prime Minister of Malaysia, delivered a speech at the grand opening of the Cybersecurity Center of Excellence (CCoE) in Cyberjaya on March 26, 2024. The event was attended by various government officials, industry representatives, and members of the media. The establishment of the CCoE signifies Malaysia's commitment to enhancing national cybersecurity capabilities and becoming an international hub for addressing emerging cyber threats. The center aims to facilitate collaboration between Malaysian and Canadian institutions to share knowledge, threat intelligence, and jointly develop methods and strategies to strengthen national and regional cyber-resilience. The CCoE is a milestone in our journey towards creating a robust cybersecurity ecosystem, necessitating strong partnerships across the public and private sectors. Malaysia has a shortfall of 12,000 cybersecurity professionals and aims to have 25,000 workers in cybersecurity by 2025. The CCoE is envisioned as a capacity-building hub for the Southeast Asian region, focusing on enhancing threat intelligence sharing and fostering regional cooperation in mitigating cybersecurity threats and combating cybercrime. Malaysia aims to establish a globally competitive skills and learning ecosystem in the Indo-Pacific region through the CCoE. International partnerships, particularly those leveraging advanced technologies like Artificial Intelligence and Machine Learning, are crucial for the positive growth of the economy. Through this strategic collaboration, Malaysia aims to stimulate economic advancement, attract Foreign Direct Investment, and bolster the resilience of its cybersecurity infrastructure to keep the nation's data, conversations, and citizens safe. The efforts to enhance cybersecurity competencies are part of the Ekonomi MADANI: Memperkasa Rakyat framework, which includes initiatives to accelerate enterprise growth and productivity. Additionally, as of February 2024, Malaysia has achieved 80.3% 5G coverage and 97.07% Internet coverage in populated areas, driving digital transformation across various industries and spurring the growth of data centers and cloud services.\n",
      "We have the opportunity to refine the existing summary (only if needed) with some more context below.\n",
      "------------\n",
      "such as manufacturing, health care, warehousing, agriculture and more, in addition to spurring the growth of data centers and cloud services.  14. Today, we also celebrate the graduation of the first cohort of upskilled cyber defenders, trained by the SANS Institute and BlackBerry. This achievement is a direct reflection of the CCoE’s immediate impact, contributing to the elevation of cybersecurity skills and fostering a culture of innovation and professional networking.   15. Going forward, the landmark collaboration today will be vital in fortifying cybersecurity and ensuring data sovereignty for\n",
      "------------\n",
      "Given the new context, refine the original summary.\n",
      "If the context isn't useful, return the original summary.\u001b[0m\n",
      "\n",
      "\u001b[1m> Finished chain.\u001b[0m\n",
      "\n",
      "\n",
      "\u001b[1m> Entering new LLMChain chain...\u001b[0m\n",
      "Prompt after formatting:\n",
      "\u001b[32;1m\u001b[1;3mYour job is to produce a final summary.\n",
      "We have provided an existing summary up to a certain point: Dato’ Seri Anwar Bin Ibrahim, Prime Minister of Malaysia, delivered a speech at the grand opening of the Cybersecurity Center of Excellence (CCoE) in Cyberjaya on March 26, 2024. The event was attended by various government officials, industry representatives, and members of the media. The establishment of the CCoE signifies Malaysia's commitment to enhancing national cybersecurity capabilities and becoming an international hub for addressing emerging cyber threats. The center aims to facilitate collaboration between Malaysian and Canadian institutions to share knowledge, threat intelligence, and jointly develop methods and strategies to strengthen national and regional cyber-resilience. The CCoE is a milestone in our journey towards creating a robust cybersecurity ecosystem, necessitating strong partnerships across the public and private sectors. Malaysia has a shortfall of 12,000 cybersecurity professionals and aims to have 25,000 workers in cybersecurity by 2025. The CCoE is envisioned as a capacity-building hub for the Southeast Asian region, focusing on enhancing threat intelligence sharing and fostering regional cooperation in mitigating cybersecurity threats and combating cybercrime. Malaysia aims to establish a globally competitive skills and learning ecosystem in the Indo-Pacific region through the CCoE. International partnerships, particularly those leveraging advanced technologies like Artificial Intelligence and Machine Learning, are crucial for the positive growth of the economy. Through this strategic collaboration, Malaysia aims to stimulate economic advancement, attract Foreign Direct Investment, and bolster the resilience of its cybersecurity infrastructure to keep the nation's data, conversations, and citizens safe. The efforts to enhance cybersecurity competencies are part of the Ekonomi MADANI: Memperkasa Rakyat framework, which includes initiatives to accelerate enterprise growth and productivity. Additionally, as of February 2024, Malaysia has achieved 80.3% 5G coverage and 97.07% Internet coverage in populated areas, driving digital transformation across various industries such as manufacturing, health care, warehousing, agriculture, and more, in addition to spurring the growth of data centers and cloud services. Today, we also celebrate the graduation of the first cohort of upskilled cyber defenders, trained by the SANS Institute and BlackBerry. This achievement is a direct reflection of the CCoE’s immediate impact, contributing to the elevation of cybersecurity skills and fostering a culture of innovation and professional networking. Going forward, the landmark collaboration today will be vital in fortifying cybersecurity and ensuring data sovereignty.\n",
      "We have the opportunity to refine the existing summary (only if needed) with some more context below.\n",
      "------------\n",
      "6  Malaysia. With that, dengan lafaz Bismillahirrahmanirrahim, I am pleased to officiate the Cybersecurity Center of Excellence.  Wabillahitaufik Walhidayah Wassalamualaikum Warahmatullahi Wabarakatuh.\n",
      "------------\n",
      "Given the new context, refine the original summary.\n",
      "If the context isn't useful, return the original summary.\u001b[0m\n",
      "\n",
      "\u001b[1m> Finished chain.\u001b[0m\n",
      "\n",
      "\u001b[1m> Finished chain.\u001b[0m\n"
     ]
    }
   ],
   "source": [
    "summary = chain.run(chunks)"
   ]
  },
  {
   "cell_type": "code",
   "execution_count": 19,
   "metadata": {},
   "outputs": [
    {
     "data": {
      "text/plain": [
       "\"Dato’ Seri Anwar Bin Ibrahim, Prime Minister of Malaysia, delivered a speech at the grand opening of the Cybersecurity Center of Excellence (CCoE) in Cyberjaya on March 26, 2024. The event was attended by various government officials, industry representatives, and members of the media. The establishment of the CCoE signifies Malaysia's commitment to enhancing national cybersecurity capabilities and becoming an international hub for addressing emerging cyber threats. The center aims to facilitate collaboration between Malaysian and Canadian institutions to share knowledge, threat intelligence, and jointly develop methods and strategies to strengthen national and regional cyber-resilience. The CCoE is a milestone in our journey towards creating a robust cybersecurity ecosystem, necessitating strong partnerships across the public and private sectors. Malaysia has a shortfall of 12,000 cybersecurity professionals and aims to have 25,000 workers in cybersecurity by 2025. The CCoE is envisioned as a capacity-building hub for the Southeast Asian region, focusing on enhancing threat intelligence sharing and fostering regional cooperation in mitigating cybersecurity threats and combating cybercrime. Malaysia aims to establish a globally competitive skills and learning ecosystem in the Indo-Pacific region through the CCoE. International partnerships, particularly those leveraging advanced technologies like Artificial Intelligence and Machine Learning, are crucial for the positive growth of the economy. Through this strategic collaboration, Malaysia aims to stimulate economic advancement, attract Foreign Direct Investment, and bolster the resilience of its cybersecurity infrastructure to keep the nation's data, conversations, and citizens safe. The efforts to enhance cybersecurity competencies are part of the Ekonomi MADANI: Memperkasa Rakyat framework, which includes initiatives to accelerate enterprise growth and productivity. Additionally, as of February 2024, Malaysia has achieved 80.3% 5G coverage and 97.07% Internet coverage in populated areas, driving digital transformation across various industries such as manufacturing, health care, warehousing, agriculture, and more, in addition to spurring the growth of data centers and cloud services. Today, we also celebrate the graduation of the first cohort of upskilled cyber defenders, trained by the SANS Institute and BlackBerry. This achievement is a direct reflection of the CCoE’s immediate impact, contributing to the elevation of cybersecurity skills and fostering a culture of innovation and professional networking. The Cybersecurity Center of Excellence was officially inaugurated by Dato’ Seri Anwar Bin Ibrahim, Prime Minister of Malaysia, with the invocation of Bismillahirrahmanirrahim, signifying a new chapter in Malaysia's cybersecurity landscape.\""
      ]
     },
     "execution_count": 19,
     "metadata": {},
     "output_type": "execute_result"
    }
   ],
   "source": [
    "summary"
   ]
  }
 ],
 "metadata": {
  "kernelspec": {
   "display_name": "langchain",
   "language": "python",
   "name": "python3"
  },
  "language_info": {
   "codemirror_mode": {
    "name": "ipython",
    "version": 3
   },
   "file_extension": ".py",
   "mimetype": "text/x-python",
   "name": "python",
   "nbconvert_exporter": "python",
   "pygments_lexer": "ipython3",
   "version": "3.10.13"
  }
 },
 "nbformat": 4,
 "nbformat_minor": 2
}
