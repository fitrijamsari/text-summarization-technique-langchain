{
 "cells": [
  {
   "cell_type": "markdown",
   "metadata": {},
   "source": [
    "# 06. MapReduce + Custom Prompt Text Summarization Using Langchain\n",
    "\n",
    "Usage: Large Document Summarization\n",
    "\n",
    "Concept:\n",
    "1. Convert large document into chunk\n",
    "2. Send the chunk to llm model\n",
    "3. For every chunk we will get the summary\n",
    "4. Create a custom prompt\n",
    "4. llm model will combine the summary for each chunk and provide the final summary based on prompt"
   ]
  },
  {
   "cell_type": "code",
   "execution_count": 1,
   "metadata": {},
   "outputs": [
    {
     "data": {
      "text/plain": [
       "True"
      ]
     },
     "execution_count": 1,
     "metadata": {},
     "output_type": "execute_result"
    }
   ],
   "source": [
    "import os\n",
    "from dotenv import load_dotenv\n",
    "import os\n",
    "\n",
    "# Load variables from .env\n",
    "load_dotenv()"
   ]
  },
  {
   "cell_type": "code",
   "execution_count": 2,
   "metadata": {},
   "outputs": [],
   "source": [
    "openai_api_key = os.environ['OPENAI_API_KEY']"
   ]
  },
  {
   "cell_type": "code",
   "execution_count": 3,
   "metadata": {},
   "outputs": [],
   "source": [
    "from PyPDF2 import PdfReader\n",
    "\n",
    "from langchain import PromptTemplate\n",
    "from langchain.chat_models import ChatOpenAI\n",
    "from langchain.chains.summarize import load_summarize_chain\n",
    "from langchain.text_splitter import RecursiveCharacterTextSplitter"
   ]
  },
  {
   "cell_type": "code",
   "execution_count": 4,
   "metadata": {},
   "outputs": [],
   "source": [
    "# provide the path of  pdf file/files.\n",
    "pdfreader = PdfReader('document/SPEECH-YAB-PM-FOR-CCOE.pdf')"
   ]
  },
  {
   "cell_type": "code",
   "execution_count": 5,
   "metadata": {},
   "outputs": [],
   "source": [
    "from typing_extensions import Concatenate\n",
    "\n",
    "# read text from pdf\n",
    "text:str = ''\n",
    "for i, page in enumerate(pdfreader.pages):\n",
    "    content = page.extract_text()\n",
    "    if content:\n",
    "        text += content"
   ]
  },
  {
   "cell_type": "code",
   "execution_count": 6,
   "metadata": {},
   "outputs": [
    {
     "data": {
      "text/plain": [
       "\" \\n1         SPEECH  YAB DATO’ SERI ANWAR BIN IBRAHIM PRIME MINISTER OF MALAYSIA       THE GRAND OPENING OF  CYBERSECURITY CENTER OF EXCELLENCE (CCoE)         26 MARCH 2024 (TUESDAY), 1.45 PM CCoE, CYBERJAYA   \\n \\n2  SALUTATIONS  1. The Honourable Mrs. Mary Ng Minister of Export Promotion, International Trade and Economic Development of Canada   2. Yang Berhormat Fahmi Fadzil  Minister of Communications   3. YBhg. Datuk Mohamad Fauzi bin Md. Isa Secretary-General, Ministry of Communications  4. YM Raja Dato’ Nurshirwan Zainal Abidin Director General, National Security Council  5. Yang Berusaha Tan Sri Mohamad Salim bin Fateh Din  Chairman, Malaysian Communications and Multimedia Commission (MCMC)   6. Mr. John J. Giamatteo  Chief Executive Officer, BlackBerry   7. Representatives of the industry and ecosystem,   8. Distinguished guests,    9. Members of the media,  10. Ladies and gentlemen,          \\n3  Assalamualaikum Warahmatullahi Wabarakatuh and Salam Malaysia MADANI.  1. It has been said that there is a tide in our affairs which, taken at the flood, leads on to fortune; Omitted, our voyage will be bound in shallows and in miseries.  2. Today, is the day we seize that moment, indeed a defining moment with the establishment of the Cybersecurity Center of Excellence (CCoE), a testament to our unwavering commitment to strengthen the nation’s cybersecurity capabilities and capacities.  3. Being more than a facility to help train and upskill our national workforce, the CCoE has the potential to be an international destination to address emerging cyber threats. We can bring together Malaysian and Canadian universities, research institutions and skilled practitioners to share knowledge, threat intelligence, and jointly develop methods and strategies to strengthen national and regional cyber-resilience.  4. The CCoE is a milestone in our journey towards creating a robust cybersecurity ecosystem, necessitating strong partnerships across the public and private sectors.   5. Towards a more secure digital environment, we can collaborate to develop plans that encourage information sharing and expertise exchange between government agencies, and other stakeholders including sharing actionable threat intelligence.    \\n4  6. We commend Blackberry for helping to upskill our next generation of cyber-defenders, accelerating our goal to bolster national and regional security and innovation.  Malaysia has a shortfall of 12,000 cybersecurity professionals. We need 25,000 workers in cybersecurity by 2025.  7. We envision this center as a capacity-building hub for the Southeast Asian region, with a specific focus on enhancing threat intelligence sharing, and fostering regional cooperation in mitigating cybersecurity threats and combating cybercrime.  8. As the chosen location for the establishment of the CCoE, Malaysia aims to deliver upon our shared goal to establish a globally competitive skills and learning ecosystem in the Indo-Pacific region.  9. Forging international partnerships, specifically those harnessing advanced technologies like Artificial Intelligence and Machine Learning, assumes importance in the positive growth of our economy's trajectory.  10. Through this strategic collaboration, we not only stimulate economic advancement and prosperity but also bolster the resilience of our cybersecurity infrastructure against the risks that pervade the digital landscape, by keeping the nation’s data, conversations, and citizens safe.  11. The Government has been working tirelessly to attract Foreign Direct Investment chalking up RM329.5 billion in 2023, an all-time  \\n5  high, which bodes well for 2024 and reflects the increasing confidence investors have in Malaysia.  12. These efforts will ultimately create high value job opportunities for the people, in tandem with the Ekonomi MADANI: Memperkasa Rakyat. Under this Framework, the Government has also introduced numerous initiatives to help accelerate the growth of enterprises and services to significantly enhance their productivity as well as grow Malaysia’s cybersecurity competencies in the digital domain.  13. As of February 2024, 5G roll out in Malaysia has reached 80.3% coverage in populated areas and Internet coverage has reached 97.07% in populated areas respectively in Malaysia. The communications connectivity will continue to catalyse digital transformation, specifically those industry verticals such as manufacturing, health care, warehousing, agriculture and more, in addition to spurring the growth of data centers and cloud services.  14. Today, we also celebrate the graduation of the first cohort of upskilled cyber defenders, trained by the SANS Institute and BlackBerry. This achievement is a direct reflection of the CCoE’s immediate impact, contributing to the elevation of cybersecurity skills and fostering a culture of innovation and professional networking.   15. Going forward, the landmark collaboration today will be vital in fortifying cybersecurity and ensuring data sovereignty for  \\n6  Malaysia. With that, dengan lafaz Bismillahirrahmanirrahim, I am pleased to officiate the Cybersecurity Center of Excellence.  Wabillahitaufik Walhidayah Wassalamualaikum Warahmatullahi Wabarakatuh.    \""
      ]
     },
     "execution_count": 6,
     "metadata": {},
     "output_type": "execute_result"
    }
   ],
   "source": [
    "text"
   ]
  },
  {
   "cell_type": "code",
   "execution_count": 7,
   "metadata": {},
   "outputs": [],
   "source": [
    "llm = ChatOpenAI(temperature=0, model_name=\"gpt-3.5-turbo\")"
   ]
  },
  {
   "cell_type": "code",
   "execution_count": 8,
   "metadata": {},
   "outputs": [
    {
     "data": {
      "text/plain": [
       "1124"
      ]
     },
     "execution_count": 8,
     "metadata": {},
     "output_type": "execute_result"
    }
   ],
   "source": [
    "llm.get_num_tokens(text)"
   ]
  },
  {
   "cell_type": "code",
   "execution_count": 9,
   "metadata": {},
   "outputs": [],
   "source": [
    "## Splittting the text\n",
    "text_splitter = RecursiveCharacterTextSplitter(\n",
    "    chunk_size=1000,\n",
    "    chunk_overlap=200,\n",
    ")\n",
    "\n",
    "chunks = text_splitter.create_documents([text])"
   ]
  },
  {
   "cell_type": "code",
   "execution_count": 10,
   "metadata": {},
   "outputs": [
    {
     "data": {
      "text/plain": [
       "8"
      ]
     },
     "execution_count": 10,
     "metadata": {},
     "output_type": "execute_result"
    }
   ],
   "source": [
    "len(chunks)"
   ]
  },
  {
   "cell_type": "code",
   "execution_count": 11,
   "metadata": {},
   "outputs": [],
   "source": [
    "# This prompt only applied to each chunk!\n",
    "chunks_prompt = \"\"\"\n",
    "'Write a concise and short summary of the following speech in a professional tone.\n",
    "Speech: `{text}`\n",
    "Summary:\n",
    "\"\"\"\n",
    "\n",
    "map_prompt_template = PromptTemplate(input_variables=[\"text\"], template=chunks_prompt)"
   ]
  },
  {
   "cell_type": "code",
   "execution_count": 12,
   "metadata": {},
   "outputs": [],
   "source": [
    "# This prompt will apply to all combined chunks\n",
    "final_combine_prompt = \"\"\"\n",
    "Provide a final summary of the entire speech with these important points.\n",
    "Add a Generic Motivational Title,\n",
    "Start the precise summary with an introduction and provide the summary in number points for the speech.\n",
    "Provide the statistical value of the speech.\n",
    "Speech: `{text}`\n",
    "\"\"\"\n",
    "\n",
    "combine_prompt_template = PromptTemplate(input_variables=[\"text\"], template=final_combine_prompt)"
   ]
  },
  {
   "cell_type": "code",
   "execution_count": 13,
   "metadata": {},
   "outputs": [],
   "source": [
    "# load the entire document as stuff\n",
    "chain = load_summarize_chain(llm, chain_type=\"map_reduce\", map_prompt = map_prompt_template, combine_prompt = combine_prompt_template, verbose=True)"
   ]
  },
  {
   "cell_type": "code",
   "execution_count": 14,
   "metadata": {},
   "outputs": [
    {
     "name": "stdout",
     "output_type": "stream",
     "text": [
      "\n",
      "\n",
      "\u001b[1m> Entering new MapReduceDocumentsChain chain...\u001b[0m\n",
      "\n",
      "\n",
      "\u001b[1m> Entering new LLMChain chain...\u001b[0m\n",
      "Prompt after formatting:\n",
      "\u001b[32;1m\u001b[1;3m\n",
      "'Write a concise and short summary of the following speech in a professional tone.\n",
      "Speech: `1         SPEECH  YAB DATO’ SERI ANWAR BIN IBRAHIM PRIME MINISTER OF MALAYSIA       THE GRAND OPENING OF  CYBERSECURITY CENTER OF EXCELLENCE (CCoE)         26 MARCH 2024 (TUESDAY), 1.45 PM CCoE, CYBERJAYA   \n",
      " \n",
      "2  SALUTATIONS  1. The Honourable Mrs. Mary Ng Minister of Export Promotion, International Trade and Economic Development of Canada   2. Yang Berhormat Fahmi Fadzil  Minister of Communications   3. YBhg. Datuk Mohamad Fauzi bin Md. Isa Secretary-General, Ministry of Communications  4. YM Raja Dato’ Nurshirwan Zainal Abidin Director General, National Security Council  5. Yang Berusaha Tan Sri Mohamad Salim bin Fateh Din  Chairman, Malaysian Communications and Multimedia Commission (MCMC)   6. Mr. John J. Giamatteo  Chief Executive Officer, BlackBerry   7. Representatives of the industry and ecosystem,   8. Distinguished guests,    9. Members of the media,  10. Ladies and gentlemen,`\n",
      "Summary:\n",
      "\u001b[0m\n",
      "Prompt after formatting:\n",
      "\u001b[32;1m\u001b[1;3m\n",
      "'Write a concise and short summary of the following speech in a professional tone.\n",
      "Speech: `3  Assalamualaikum Warahmatullahi Wabarakatuh and Salam Malaysia MADANI.  1. It has been said that there is a tide in our affairs which, taken at the flood, leads on to fortune; Omitted, our voyage will be bound in shallows and in miseries.  2. Today, is the day we seize that moment, indeed a defining moment with the establishment of the Cybersecurity Center of Excellence (CCoE), a testament to our unwavering commitment to strengthen the nation’s cybersecurity capabilities and capacities.  3. Being more than a facility to help train and upskill our national workforce, the CCoE has the potential to be an international destination to address emerging cyber threats. We can bring together Malaysian and Canadian universities, research institutions and skilled practitioners to share knowledge, threat intelligence, and jointly develop methods and strategies to strengthen national and regional cyber-resilience.  4. The CCoE is a milestone in our journey towards creating a robust cybersecurity`\n",
      "Summary:\n",
      "\u001b[0m\n",
      "Prompt after formatting:\n",
      "\u001b[32;1m\u001b[1;3m\n",
      "'Write a concise and short summary of the following speech in a professional tone.\n",
      "Speech: `intelligence, and jointly develop methods and strategies to strengthen national and regional cyber-resilience.  4. The CCoE is a milestone in our journey towards creating a robust cybersecurity ecosystem, necessitating strong partnerships across the public and private sectors.   5. Towards a more secure digital environment, we can collaborate to develop plans that encourage information sharing and expertise exchange between government agencies, and other stakeholders including sharing actionable threat intelligence.`\n",
      "Summary:\n",
      "\u001b[0m\n",
      "Prompt after formatting:\n",
      "\u001b[32;1m\u001b[1;3m\n",
      "'Write a concise and short summary of the following speech in a professional tone.\n",
      "Speech: `4  6. We commend Blackberry for helping to upskill our next generation of cyber-defenders, accelerating our goal to bolster national and regional security and innovation.  Malaysia has a shortfall of 12,000 cybersecurity professionals. We need 25,000 workers in cybersecurity by 2025.  7. We envision this center as a capacity-building hub for the Southeast Asian region, with a specific focus on enhancing threat intelligence sharing, and fostering regional cooperation in mitigating cybersecurity threats and combating cybercrime.  8. As the chosen location for the establishment of the CCoE, Malaysia aims to deliver upon our shared goal to establish a globally competitive skills and learning ecosystem in the Indo-Pacific region.  9. Forging international partnerships, specifically those harnessing advanced technologies like Artificial Intelligence and Machine Learning, assumes importance in the positive growth of our economy's trajectory.  10. Through this strategic collaboration, we not`\n",
      "Summary:\n",
      "\u001b[0m\n",
      "Prompt after formatting:\n",
      "\u001b[32;1m\u001b[1;3m\n",
      "'Write a concise and short summary of the following speech in a professional tone.\n",
      "Speech: `advanced technologies like Artificial Intelligence and Machine Learning, assumes importance in the positive growth of our economy's trajectory.  10. Through this strategic collaboration, we not only stimulate economic advancement and prosperity but also bolster the resilience of our cybersecurity infrastructure against the risks that pervade the digital landscape, by keeping the nation’s data, conversations, and citizens safe.  11. The Government has been working tirelessly to attract Foreign Direct Investment chalking up RM329.5 billion in 2023, an all-time`\n",
      "Summary:\n",
      "\u001b[0m\n",
      "Prompt after formatting:\n",
      "\u001b[32;1m\u001b[1;3m\n",
      "'Write a concise and short summary of the following speech in a professional tone.\n",
      "Speech: `5  high, which bodes well for 2024 and reflects the increasing confidence investors have in Malaysia.  12. These efforts will ultimately create high value job opportunities for the people, in tandem with the Ekonomi MADANI: Memperkasa Rakyat. Under this Framework, the Government has also introduced numerous initiatives to help accelerate the growth of enterprises and services to significantly enhance their productivity as well as grow Malaysia’s cybersecurity competencies in the digital domain.  13. As of February 2024, 5G roll out in Malaysia has reached 80.3% coverage in populated areas and Internet coverage has reached 97.07% in populated areas respectively in Malaysia. The communications connectivity will continue to catalyse digital transformation, specifically those industry verticals such as manufacturing, health care, warehousing, agriculture and more, in addition to spurring the growth of data centers and cloud services.  14. Today, we also celebrate the graduation of the`\n",
      "Summary:\n",
      "\u001b[0m\n",
      "Prompt after formatting:\n",
      "\u001b[32;1m\u001b[1;3m\n",
      "'Write a concise and short summary of the following speech in a professional tone.\n",
      "Speech: `such as manufacturing, health care, warehousing, agriculture and more, in addition to spurring the growth of data centers and cloud services.  14. Today, we also celebrate the graduation of the first cohort of upskilled cyber defenders, trained by the SANS Institute and BlackBerry. This achievement is a direct reflection of the CCoE’s immediate impact, contributing to the elevation of cybersecurity skills and fostering a culture of innovation and professional networking.   15. Going forward, the landmark collaboration today will be vital in fortifying cybersecurity and ensuring data sovereignty for`\n",
      "Summary:\n",
      "\u001b[0m\n",
      "Prompt after formatting:\n",
      "\u001b[32;1m\u001b[1;3m\n",
      "'Write a concise and short summary of the following speech in a professional tone.\n",
      "Speech: `6  Malaysia. With that, dengan lafaz Bismillahirrahmanirrahim, I am pleased to officiate the Cybersecurity Center of Excellence.  Wabillahitaufik Walhidayah Wassalamualaikum Warahmatullahi Wabarakatuh.`\n",
      "Summary:\n",
      "\u001b[0m\n",
      "\n",
      "\u001b[1m> Finished chain.\u001b[0m\n",
      "\n",
      "\n",
      "\u001b[1m> Entering new LLMChain chain...\u001b[0m\n",
      "Prompt after formatting:\n",
      "\u001b[32;1m\u001b[1;3m\n",
      "Provide a final summary of the entire speech with these important points.\n",
      "Add a Generic Motivational Title,\n",
      "Start the precise summary with an introduction and provide the summary in number points for the speech.\n",
      "Provide the statistical value of the speech.\n",
      "Speech: `Prime Minister Anwar Ibrahim of Malaysia delivered a speech at the grand opening of the Cybersecurity Center of Excellence (CCoE) in Cyberjaya. He acknowledged and greeted various dignitaries present at the event, including government officials, industry representatives, and members of the media. The speech emphasized the importance of cybersecurity in today's digital age and highlighted the role of the CCoE in enhancing Malaysia's cybersecurity capabilities.\n",
      "\n",
      "The speech highlights the establishment of the Cybersecurity Center of Excellence (CCoE) as a significant step towards strengthening Malaysia's cybersecurity capabilities. The CCoE aims to not only train and upskill the national workforce but also become an international hub for addressing emerging cyber threats. By collaborating with universities, research institutions, and practitioners, the CCoE will work towards enhancing national and regional cyber-resilience. This initiative marks a milestone in Malaysia's journey towards creating a robust cybersecurity infrastructure.\n",
      "\n",
      "The speech highlights the importance of intelligence sharing and collaboration in strengthening national and regional cyber-resilience. The establishment of the CCoE signifies a significant step towards creating a robust cybersecurity ecosystem through partnerships between the public and private sectors. The focus is on developing plans to encourage information sharing, expertise exchange, and actionable threat intelligence among government agencies and other stakeholders to enhance cybersecurity.\n",
      "\n",
      "The speech commends Blackberry for upskilling cyber-defenders to enhance national and regional security. Malaysia faces a shortage of 12,000 cybersecurity professionals and aims to have 25,000 by 2025. The establishment of a capacity-building hub in Malaysia will focus on threat intelligence sharing and regional cooperation in combating cyber threats. The country aims to establish a globally competitive skills ecosystem in the Indo-Pacific region through international partnerships utilizing advanced technologies like AI and Machine Learning.\n",
      "\n",
      "The speech highlights the importance of advanced technologies such as Artificial Intelligence and Machine Learning in driving economic growth. It emphasizes the collaboration between different sectors to stimulate economic advancement, prosperity, and strengthen cybersecurity infrastructure. The government's efforts to attract Foreign Direct Investment are also mentioned, with RM329.5 billion recorded in 2023.\n",
      "\n",
      "The speech highlighted the positive outlook for Malaysia in 2024, with increasing investor confidence and efforts to create high-value job opportunities through initiatives like Ekonomi MADANI. The government has introduced measures to accelerate enterprise growth and enhance cybersecurity competencies. Additionally, 5G and internet coverage in populated areas have reached high levels, which will drive digital transformation in various industries.\n",
      "\n",
      "The speech highlighted the importance of upskilling cyber defenders in various industries such as manufacturing, health care, warehousing, and agriculture. The collaboration between the SANS Institute, BlackBerry, and the CCoE has led to the graduation of the first cohort of upskilled cyber defenders, contributing to the elevation of cybersecurity skills and fostering a culture of innovation and professional networking. This collaboration will be vital in fortifying cybersecurity and ensuring data sovereignty in the future.\n",
      "\n",
      "The speaker officially inaugurated the Cybersecurity Center of Excellence in Malaysia with a traditional Islamic blessing.`\n",
      "\u001b[0m\n",
      "\n",
      "\u001b[1m> Finished chain.\u001b[0m\n",
      "\n",
      "\u001b[1m> Finished chain.\u001b[0m\n"
     ]
    }
   ],
   "source": [
    "summary = chain.run(chunks)"
   ]
  },
  {
   "cell_type": "code",
   "execution_count": 15,
   "metadata": {},
   "outputs": [
    {
     "data": {
      "text/plain": [
       "'Title: \"Empowering Cybersecurity: Building a Resilient Future\"\\n\\nIntroduction:\\nPrime Minister Anwar Ibrahim of Malaysia delivered a speech at the grand opening of the Cybersecurity Center of Excellence (CCoE) in Cyberjaya, emphasizing the importance of cybersecurity in today\\'s digital age and the role of the CCoE in enhancing Malaysia\\'s cybersecurity capabilities.\\n\\nSummary:\\n1. The establishment of the Cybersecurity Center of Excellence (CCoE) marks a significant step towards strengthening Malaysia\\'s cybersecurity capabilities, aiming to train and upskill the national workforce and become an international hub for addressing emerging cyber threats.\\n2. Intelligence sharing and collaboration are crucial in strengthening national and regional cyber-resilience, with the CCoE fostering partnerships between the public and private sectors to enhance cybersecurity through information sharing and expertise exchange.\\n3. Malaysia faces a shortage of cybersecurity professionals, with efforts to upskill cyber-defenders through initiatives like the capacity-building hub in Malaysia, focusing on threat intelligence sharing and regional cooperation in combating cyber threats.\\n4. Advanced technologies like Artificial Intelligence and Machine Learning play a vital role in driving economic growth and strengthening cybersecurity infrastructure, with the government attracting Foreign Direct Investment and recording RM329.5 billion in 2023.\\n5. Malaysia\\'s positive outlook for 2024 includes increasing investor confidence, high-value job opportunities through initiatives like Ekonomi MADANI, and efforts to accelerate enterprise growth and enhance cybersecurity competencies through collaborations with industry leaders like the SANS Institute and BlackBerry.\\n\\nStatistical Value:\\n- Malaysia aims to have 25,000 cybersecurity professionals by 2025 to combat the shortage of 12,000 professionals.\\n- RM329.5 billion in Foreign Direct Investment was recorded in 2023.\\n- The first cohort of upskilled cyber defenders graduated through collaborations with the SANS Institute, BlackBerry, and the CCoE.'"
      ]
     },
     "execution_count": 15,
     "metadata": {},
     "output_type": "execute_result"
    }
   ],
   "source": [
    "summary"
   ]
  }
 ],
 "metadata": {
  "kernelspec": {
   "display_name": "langchain",
   "language": "python",
   "name": "python3"
  },
  "language_info": {
   "codemirror_mode": {
    "name": "ipython",
    "version": 3
   },
   "file_extension": ".py",
   "mimetype": "text/x-python",
   "name": "python",
   "nbconvert_exporter": "python",
   "pygments_lexer": "ipython3",
   "version": "3.10.13"
  }
 },
 "nbformat": 4,
 "nbformat_minor": 2
}
